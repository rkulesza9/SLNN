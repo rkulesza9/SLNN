{
 "cells": [
  {
   "cell_type": "markdown",
   "metadata": {},
   "source": [
    "<h1> Sign Language Neural Network </h1>\n",
    "<p>by Robert Kulesza</p>"
   ]
  },
  {
   "cell_type": "markdown",
   "metadata": {},
   "source": [
    "## Dataset\n",
    "* Sign Language MNIST dataset\n",
    "* https://www.kaggle.com/datamunge/sign-language-mnist#sign_mnist_test.zip"
   ]
  },
  {
   "cell_type": "markdown",
   "metadata": {},
   "source": [
    "## Methods\n",
    "* <b>Preprocessing</b>\n",
    "    * batch processing\n",
    "* <b>Machine Learning Techniques</b>\n",
    "    * Neural Network\n",
    "* <b>Results</b>\n",
    "    * loss\n",
    "    * accuracy"
   ]
  },
  {
   "cell_type": "markdown",
   "metadata": {},
   "source": [
    "### import libraries"
   ]
  },
  {
   "cell_type": "code",
   "execution_count": 94,
   "metadata": {},
   "outputs": [],
   "source": [
    "import tensorflow as tf\n",
    "import pandas as pd\n",
    "import matplotlib.image as mpimg\n",
    "import matplotlib.pyplot as plt\n",
    "import numpy as np\n",
    "import os\n",
    "import math\n",
    "from tensorflow.python.framework import ops"
   ]
  },
  {
   "cell_type": "markdown",
   "metadata": {},
   "source": [
    "### Load Data"
   ]
  },
  {
   "cell_type": "markdown",
   "metadata": {},
   "source": [
    "* paths for training and testing data.\n",
    "* list of csv files in the training / testing directories.\n",
    "* separated data and labels\n",
    "* reshaped data to 28*28"
   ]
  },
  {
   "cell_type": "code",
   "execution_count": 95,
   "metadata": {},
   "outputs": [],
   "source": [
    "path_train = \"sign_mnist_train\"\n",
    "path_test = \"sign_mnist_test\""
   ]
  },
  {
   "cell_type": "code",
   "execution_count": 96,
   "metadata": {},
   "outputs": [],
   "source": [
    "csv_train = os.listdir(path_train)\n",
    "csv_test = os.listdir(path_test)\n",
    "\n",
    "csv_train = [path_train + \"/\" + csv_train[x] for x in range(len(csv_train))]\n",
    "csv_test = [path_test + \"/\" + csv_test[x] for x in range(len(csv_train))]"
   ]
  },
  {
   "cell_type": "code",
   "execution_count": 97,
   "metadata": {},
   "outputs": [],
   "source": [
    "df_train = pd.read_csv(csv_train[0])\n",
    "df_test = pd.read_csv(csv_test[0])\n",
    "\n",
    "array_train_X = np.array(df_train.drop(\"label\",1))\n",
    "array_train_y = np.array(df_train['label'])\n",
    "\n",
    "array_test_X = np.array(df_test.drop(\"label\",1))\n",
    "array_test_y = np.array(df_test['label'])"
   ]
  },
  {
   "cell_type": "code",
   "execution_count": 98,
   "metadata": {},
   "outputs": [],
   "source": [
    "array_train_X = array_train_X.reshape(len(array_train_X),28,28)\n",
    "array_test_X = array_test_X.reshape(len(array_test_X),28,28)"
   ]
  },
  {
   "cell_type": "markdown",
   "metadata": {},
   "source": [
    "### print example image and label"
   ]
  },
  {
   "cell_type": "code",
   "execution_count": 100,
   "metadata": {
    "scrolled": true
   },
   "outputs": [
    {
     "name": "stdout",
     "output_type": "stream",
     "text": [
      "label:  3\n",
      "AxesImage(54,36;334.8x217.44)\n"
     ]
    },
    {
     "data": {
      "image/png": "[encoded data removed]",
      "text/plain": [
       "<Figure size 432x288 with 1 Axes>"
      ]
     },
     "metadata": {
      "needs_background": "light"
     },
     "output_type": "display_data"
    }
   ],
   "source": [
    "img = array_train_X[0]\n",
    "lbl = array_train_y[0]\n",
    "\n",
    "print(\"label: \",lbl)\n",
    "print(plt.imshow(img, cmap='gray'))"
   ]
  },
  {
   "cell_type": "markdown",
   "metadata": {},
   "source": [
    "### The Neural Network\n",
    "* Reference: https://www.kaggle.com/meditech101/chess-fen-generator-improved"
   ]
  },
  {
   "cell_type": "code",
   "execution_count": 101,
   "metadata": {},
   "outputs": [],
   "source": [
    "from keras.models import Sequential\n",
    "from keras.layers.core import Dense, Dropout, Activation, Flatten\n",
    "from keras.layers.convolutional import Convolution2D\n"
   ]
  },
  {
   "cell_type": "code",
   "execution_count": 252,
   "metadata": {},
   "outputs": [],
   "source": [
    "tf.reset_default_graph()"
   ]
  },
  {
   "cell_type": "code",
   "execution_count": 253,
   "metadata": {},
   "outputs": [
    {
     "name": "stderr",
     "output_type": "stream",
     "text": [
      "Exception ignored in: <bound method BaseSession._Callable.__del__ of <tensorflow.python.client.session.BaseSession._Callable object at 0x0000022890A9C320>>\n",
      "Traceback (most recent call last):\n",
      "  File \"c:\\users\\kules\\appdata\\local\\programs\\python\\python36\\lib\\site-packages\\tensorflow\\python\\client\\session.py\", line 1455, in __del__\n",
      "    self._session._session, self._handle, status)\n",
      "  File \"c:\\users\\kules\\appdata\\local\\programs\\python\\python36\\lib\\site-packages\\tensorflow\\python\\framework\\errors_impl.py\", line 528, in __exit__\n",
      "    c_api.TF_GetCode(self.status.status))\n",
      "tensorflow.python.framework.errors_impl.InvalidArgumentError: No such callable handle: 2374492749896\n",
      "Exception ignored in: <bound method BaseSession._Callable.__del__ of <tensorflow.python.client.session.BaseSession._Callable object at 0x0000022890F48EB8>>\n",
      "Traceback (most recent call last):\n",
      "  File \"c:\\users\\kules\\appdata\\local\\programs\\python\\python36\\lib\\site-packages\\tensorflow\\python\\client\\session.py\", line 1455, in __del__\n",
      "    self._session._session, self._handle, status)\n",
      "  File \"c:\\users\\kules\\appdata\\local\\programs\\python\\python36\\lib\\site-packages\\tensorflow\\python\\framework\\errors_impl.py\", line 528, in __exit__\n",
      "    c_api.TF_GetCode(self.status.status))\n",
      "tensorflow.python.framework.errors_impl.InvalidArgumentError: No such callable handle: 2374492749896\n"
     ]
    }
   ],
   "source": [
    "model = Sequential()\n",
    "model.add(Convolution2D(32, (3, 3), input_shape=(28, 28, 1), kernel_initializer='he_normal'))\n",
    "model.add(Activation('relu'))\n",
    "model.add(Convolution2D(32, (3, 3), kernel_initializer='he_normal'))\n",
    "model.add(Activation('relu'))\n",
    "model.add(Flatten())\n",
    "model.add(Dense(128, kernel_initializer='he_normal'))\n",
    "model.add(Activation('relu'))\n",
    "model.add(Dropout(0.4))\n",
    "model.add(Dense(26, kernel_initializer='he_normal'))\n",
    "model.compile(\n",
    "  loss='sparse_categorical_crossentropy', optimizer='adam', metrics=['accuracy'])"
   ]
  },
  {
   "cell_type": "code",
   "execution_count": 254,
   "metadata": {},
   "outputs": [],
   "source": [
    "labels='abcdefghijklmnopqrstuvwxyz'"
   ]
  },
  {
   "cell_type": "markdown",
   "metadata": {},
   "source": [
    "### Visualize Neural Network"
   ]
  },
  {
   "cell_type": "code",
   "execution_count": 255,
   "metadata": {},
   "outputs": [],
   "source": [
    "from keras.utils.vis_utils import plot_model"
   ]
  },
  {
   "cell_type": "code",
   "execution_count": 256,
   "metadata": {},
   "outputs": [],
   "source": [
    "#plot_model(model, to_file='model_plot.png', show_shapes=True, show_layer_names=True)"
   ]
  },
  {
   "cell_type": "markdown",
   "metadata": {},
   "source": [
    "### Train Model"
   ]
  },
  {
   "cell_type": "code",
   "execution_count": 257,
   "metadata": {},
   "outputs": [],
   "source": [
    "array_train_X = array_train_X.reshape(len(array_train_X),28,28,1)"
   ]
  },
  {
   "cell_type": "code",
   "execution_count": 258,
   "metadata": {},
   "outputs": [
    {
     "data": {
      "text/plain": [
       "(1000, 28, 28, 1)"
      ]
     },
     "execution_count": 258,
     "metadata": {},
     "output_type": "execute_result"
    }
   ],
   "source": [
    "array_train_X[:1000].shape"
   ]
  },
  {
   "cell_type": "code",
   "execution_count": 259,
   "metadata": {},
   "outputs": [],
   "source": [
    "#must iterate forever (forced to stop by tf.keras)\n",
    "#use randomizer to pick index?\n",
    "def iterate_data(X,y,batch_size=100):\n",
    "    for x in range(1,len(X) // batch_size + 2):\n",
    "        if x*batch_size < len(X):\n",
    "            yield X[(x-1)*batch_size:x*batch_size], y[(x-1)*batch_size:x*batch_size]\n",
    "        else:\n",
    "            yield X[(x-1)*batch_size:len(X)], y[(x-1)*batch_size:len(X)]"
   ]
  },
  {
   "cell_type": "code",
   "execution_count": 260,
   "metadata": {},
   "outputs": [
    {
     "name": "stdout",
     "output_type": "stream",
     "text": [
      "(100, 28, 28, 1)   (100,)\n",
      "(100, 28, 28, 1)   (100,)\n",
      "(100, 28, 28, 1)   (100,)\n",
      "(100, 28, 28, 1)   (100,)\n",
      "(100, 28, 28, 1)   (100,)\n",
      "(100, 28, 28, 1)   (100,)\n",
      "(100, 28, 28, 1)   (100,)\n",
      "(100, 28, 28, 1)   (100,)\n",
      "(100, 28, 28, 1)   (100,)\n",
      "(100, 28, 28, 1)   (100,)\n",
      "(100, 28, 28, 1)   (100,)\n",
      "(100, 28, 28, 1)   (100,)\n",
      "(100, 28, 28, 1)   (100,)\n",
      "(100, 28, 28, 1)   (100,)\n",
      "(100, 28, 28, 1)   (100,)\n",
      "(100, 28, 28, 1)   (100,)\n",
      "(100, 28, 28, 1)   (100,)\n",
      "(100, 28, 28, 1)   (100,)\n",
      "(100, 28, 28, 1)   (100,)\n",
      "(100, 28, 28, 1)   (100,)\n",
      "(100, 28, 28, 1)   (100,)\n",
      "(100, 28, 28, 1)   (100,)\n",
      "(100, 28, 28, 1)   (100,)\n",
      "(100, 28, 28, 1)   (100,)\n",
      "(100, 28, 28, 1)   (100,)\n",
      "(100, 28, 28, 1)   (100,)\n",
      "(100, 28, 28, 1)   (100,)\n",
      "(100, 28, 28, 1)   (100,)\n",
      "(100, 28, 28, 1)   (100,)\n",
      "(100, 28, 28, 1)   (100,)\n",
      "(100, 28, 28, 1)   (100,)\n",
      "(100, 28, 28, 1)   (100,)\n",
      "(100, 28, 28, 1)   (100,)\n",
      "(100, 28, 28, 1)   (100,)\n",
      "(100, 28, 28, 1)   (100,)\n",
      "(100, 28, 28, 1)   (100,)\n",
      "(100, 28, 28, 1)   (100,)\n",
      "(100, 28, 28, 1)   (100,)\n",
      "(100, 28, 28, 1)   (100,)\n",
      "(100, 28, 28, 1)   (100,)\n",
      "(100, 28, 28, 1)   (100,)\n",
      "(100, 28, 28, 1)   (100,)\n",
      "(100, 28, 28, 1)   (100,)\n",
      "(100, 28, 28, 1)   (100,)\n",
      "(100, 28, 28, 1)   (100,)\n",
      "(100, 28, 28, 1)   (100,)\n",
      "(100, 28, 28, 1)   (100,)\n",
      "(100, 28, 28, 1)   (100,)\n",
      "(100, 28, 28, 1)   (100,)\n",
      "(100, 28, 28, 1)   (100,)\n",
      "(100, 28, 28, 1)   (100,)\n",
      "(100, 28, 28, 1)   (100,)\n",
      "(100, 28, 28, 1)   (100,)\n",
      "(100, 28, 28, 1)   (100,)\n",
      "(100, 28, 28, 1)   (100,)\n",
      "(100, 28, 28, 1)   (100,)\n",
      "(100, 28, 28, 1)   (100,)\n",
      "(100, 28, 28, 1)   (100,)\n",
      "(100, 28, 28, 1)   (100,)\n",
      "(100, 28, 28, 1)   (100,)\n",
      "(100, 28, 28, 1)   (100,)\n",
      "(100, 28, 28, 1)   (100,)\n",
      "(100, 28, 28, 1)   (100,)\n",
      "(100, 28, 28, 1)   (100,)\n",
      "(100, 28, 28, 1)   (100,)\n",
      "(100, 28, 28, 1)   (100,)\n",
      "(100, 28, 28, 1)   (100,)\n",
      "(100, 28, 28, 1)   (100,)\n",
      "(100, 28, 28, 1)   (100,)\n",
      "(100, 28, 28, 1)   (100,)\n",
      "(100, 28, 28, 1)   (100,)\n",
      "(100, 28, 28, 1)   (100,)\n",
      "(100, 28, 28, 1)   (100,)\n",
      "(100, 28, 28, 1)   (100,)\n",
      "(100, 28, 28, 1)   (100,)\n",
      "(100, 28, 28, 1)   (100,)\n",
      "(100, 28, 28, 1)   (100,)\n",
      "(100, 28, 28, 1)   (100,)\n",
      "(100, 28, 28, 1)   (100,)\n",
      "(100, 28, 28, 1)   (100,)\n",
      "(100, 28, 28, 1)   (100,)\n",
      "(100, 28, 28, 1)   (100,)\n",
      "(100, 28, 28, 1)   (100,)\n",
      "(100, 28, 28, 1)   (100,)\n",
      "(100, 28, 28, 1)   (100,)\n",
      "(100, 28, 28, 1)   (100,)\n",
      "(100, 28, 28, 1)   (100,)\n",
      "(100, 28, 28, 1)   (100,)\n",
      "(100, 28, 28, 1)   (100,)\n",
      "(100, 28, 28, 1)   (100,)\n",
      "(100, 28, 28, 1)   (100,)\n",
      "(100, 28, 28, 1)   (100,)\n",
      "(100, 28, 28, 1)   (100,)\n",
      "(100, 28, 28, 1)   (100,)\n",
      "(100, 28, 28, 1)   (100,)\n",
      "(100, 28, 28, 1)   (100,)\n",
      "(100, 28, 28, 1)   (100,)\n",
      "(100, 28, 28, 1)   (100,)\n",
      "(100, 28, 28, 1)   (100,)\n",
      "(100, 28, 28, 1)   (100,)\n",
      "(100, 28, 28, 1)   (100,)\n",
      "(100, 28, 28, 1)   (100,)\n",
      "(100, 28, 28, 1)   (100,)\n",
      "(100, 28, 28, 1)   (100,)\n",
      "(100, 28, 28, 1)   (100,)\n",
      "(100, 28, 28, 1)   (100,)\n",
      "(100, 28, 28, 1)   (100,)\n",
      "(100, 28, 28, 1)   (100,)\n",
      "(100, 28, 28, 1)   (100,)\n",
      "(100, 28, 28, 1)   (100,)\n",
      "(100, 28, 28, 1)   (100,)\n",
      "(100, 28, 28, 1)   (100,)\n",
      "(100, 28, 28, 1)   (100,)\n",
      "(100, 28, 28, 1)   (100,)\n",
      "(100, 28, 28, 1)   (100,)\n",
      "(100, 28, 28, 1)   (100,)\n",
      "(100, 28, 28, 1)   (100,)\n",
      "(100, 28, 28, 1)   (100,)\n",
      "(100, 28, 28, 1)   (100,)\n",
      "(100, 28, 28, 1)   (100,)\n",
      "(100, 28, 28, 1)   (100,)\n",
      "(100, 28, 28, 1)   (100,)\n",
      "(100, 28, 28, 1)   (100,)\n",
      "(100, 28, 28, 1)   (100,)\n",
      "(100, 28, 28, 1)   (100,)\n",
      "(100, 28, 28, 1)   (100,)\n",
      "(100, 28, 28, 1)   (100,)\n",
      "(100, 28, 28, 1)   (100,)\n",
      "(100, 28, 28, 1)   (100,)\n",
      "(100, 28, 28, 1)   (100,)\n",
      "(100, 28, 28, 1)   (100,)\n",
      "(100, 28, 28, 1)   (100,)\n",
      "(100, 28, 28, 1)   (100,)\n",
      "(100, 28, 28, 1)   (100,)\n",
      "(100, 28, 28, 1)   (100,)\n",
      "(100, 28, 28, 1)   (100,)\n",
      "(100, 28, 28, 1)   (100,)\n",
      "(100, 28, 28, 1)   (100,)\n",
      "(100, 28, 28, 1)   (100,)\n",
      "(100, 28, 28, 1)   (100,)\n",
      "(100, 28, 28, 1)   (100,)\n",
      "(100, 28, 28, 1)   (100,)\n",
      "(100, 28, 28, 1)   (100,)\n",
      "(100, 28, 28, 1)   (100,)\n",
      "(100, 28, 28, 1)   (100,)\n",
      "(100, 28, 28, 1)   (100,)\n",
      "(100, 28, 28, 1)   (100,)\n",
      "(100, 28, 28, 1)   (100,)\n",
      "(100, 28, 28, 1)   (100,)\n",
      "(100, 28, 28, 1)   (100,)\n",
      "(100, 28, 28, 1)   (100,)\n",
      "(100, 28, 28, 1)   (100,)\n",
      "(100, 28, 28, 1)   (100,)\n",
      "(100, 28, 28, 1)   (100,)\n",
      "(100, 28, 28, 1)   (100,)\n",
      "(100, 28, 28, 1)   (100,)\n",
      "(100, 28, 28, 1)   (100,)\n",
      "(100, 28, 28, 1)   (100,)\n",
      "(100, 28, 28, 1)   (100,)\n",
      "(100, 28, 28, 1)   (100,)\n",
      "(100, 28, 28, 1)   (100,)\n",
      "(100, 28, 28, 1)   (100,)\n",
      "(100, 28, 28, 1)   (100,)\n",
      "(100, 28, 28, 1)   (100,)\n",
      "(100, 28, 28, 1)   (100,)\n",
      "(100, 28, 28, 1)   (100,)\n",
      "(100, 28, 28, 1)   (100,)\n",
      "(100, 28, 28, 1)   (100,)\n",
      "(100, 28, 28, 1)   (100,)\n",
      "(100, 28, 28, 1)   (100,)\n",
      "(100, 28, 28, 1)   (100,)\n",
      "(100, 28, 28, 1)   (100,)\n",
      "(100, 28, 28, 1)   (100,)\n",
      "(100, 28, 28, 1)   (100,)\n",
      "(100, 28, 28, 1)   (100,)\n",
      "(100, 28, 28, 1)   (100,)\n",
      "(100, 28, 28, 1)   (100,)\n",
      "(100, 28, 28, 1)   (100,)\n",
      "(100, 28, 28, 1)   (100,)\n",
      "(100, 28, 28, 1)   (100,)\n",
      "(100, 28, 28, 1)   (100,)\n",
      "(100, 28, 28, 1)   (100,)\n",
      "(100, 28, 28, 1)   (100,)\n",
      "(100, 28, 28, 1)   (100,)\n",
      "(100, 28, 28, 1)   (100,)\n",
      "(100, 28, 28, 1)   (100,)\n",
      "(100, 28, 28, 1)   (100,)\n",
      "(100, 28, 28, 1)   (100,)\n",
      "(100, 28, 28, 1)   (100,)\n",
      "(100, 28, 28, 1)   (100,)\n",
      "(100, 28, 28, 1)   (100,)\n",
      "(100, 28, 28, 1)   (100,)\n",
      "(100, 28, 28, 1)   (100,)\n",
      "(100, 28, 28, 1)   (100,)\n",
      "(100, 28, 28, 1)   (100,)\n",
      "(100, 28, 28, 1)   (100,)\n",
      "(100, 28, 28, 1)   (100,)\n",
      "(100, 28, 28, 1)   (100,)\n",
      "(100, 28, 28, 1)   (100,)\n",
      "(100, 28, 28, 1)   (100,)\n",
      "(100, 28, 28, 1)   (100,)\n",
      "(100, 28, 28, 1)   (100,)\n",
      "(100, 28, 28, 1)   (100,)\n",
      "(100, 28, 28, 1)   (100,)\n",
      "(100, 28, 28, 1)   (100,)\n",
      "(100, 28, 28, 1)   (100,)\n",
      "(100, 28, 28, 1)   (100,)\n",
      "(100, 28, 28, 1)   (100,)\n",
      "(100, 28, 28, 1)   (100,)\n",
      "(100, 28, 28, 1)   (100,)\n",
      "(100, 28, 28, 1)   (100,)\n",
      "(100, 28, 28, 1)   (100,)\n",
      "(100, 28, 28, 1)   (100,)\n",
      "(100, 28, 28, 1)   (100,)\n",
      "(100, 28, 28, 1)   (100,)\n",
      "(100, 28, 28, 1)   (100,)\n",
      "(100, 28, 28, 1)   (100,)\n",
      "(100, 28, 28, 1)   (100,)\n",
      "(100, 28, 28, 1)   (100,)\n",
      "(100, 28, 28, 1)   (100,)\n",
      "(100, 28, 28, 1)   (100,)\n",
      "(100, 28, 28, 1)   (100,)\n",
      "(100, 28, 28, 1)   (100,)\n",
      "(100, 28, 28, 1)   (100,)\n",
      "(100, 28, 28, 1)   (100,)\n",
      "(100, 28, 28, 1)   (100,)\n",
      "(100, 28, 28, 1)   (100,)\n",
      "(100, 28, 28, 1)   (100,)\n",
      "(100, 28, 28, 1)   (100,)\n",
      "(100, 28, 28, 1)   (100,)\n",
      "(100, 28, 28, 1)   (100,)\n",
      "(100, 28, 28, 1)   (100,)\n",
      "(100, 28, 28, 1)   (100,)\n",
      "(100, 28, 28, 1)   (100,)\n",
      "(100, 28, 28, 1)   (100,)\n",
      "(100, 28, 28, 1)   (100,)\n",
      "(100, 28, 28, 1)   (100,)\n",
      "(100, 28, 28, 1)   (100,)\n",
      "(100, 28, 28, 1)   (100,)\n",
      "(100, 28, 28, 1)   (100,)\n",
      "(100, 28, 28, 1)   (100,)\n",
      "(100, 28, 28, 1)   (100,)\n",
      "(100, 28, 28, 1)   (100,)\n",
      "(100, 28, 28, 1)   (100,)\n",
      "(100, 28, 28, 1)   (100,)\n",
      "(100, 28, 28, 1)   (100,)\n",
      "(100, 28, 28, 1)   (100,)\n",
      "(100, 28, 28, 1)   (100,)\n",
      "(100, 28, 28, 1)   (100,)\n",
      "(100, 28, 28, 1)   (100,)\n",
      "(100, 28, 28, 1)   (100,)\n",
      "(100, 28, 28, 1)   (100,)\n",
      "(100, 28, 28, 1)   (100,)\n",
      "(100, 28, 28, 1)   (100,)\n",
      "(100, 28, 28, 1)   (100,)\n",
      "(100, 28, 28, 1)   (100,)\n",
      "(100, 28, 28, 1)   (100,)\n",
      "(100, 28, 28, 1)   (100,)\n",
      "(100, 28, 28, 1)   (100,)\n",
      "(100, 28, 28, 1)   (100,)\n",
      "(100, 28, 28, 1)   (100,)\n",
      "(100, 28, 28, 1)   (100,)\n",
      "(100, 28, 28, 1)   (100,)\n",
      "(100, 28, 28, 1)   (100,)\n",
      "(100, 28, 28, 1)   (100,)\n",
      "(100, 28, 28, 1)   (100,)\n",
      "(100, 28, 28, 1)   (100,)\n",
      "(100, 28, 28, 1)   (100,)\n",
      "(100, 28, 28, 1)   (100,)\n",
      "(100, 28, 28, 1)   (100,)\n",
      "(100, 28, 28, 1)   (100,)\n",
      "(100, 28, 28, 1)   (100,)\n",
      "(100, 28, 28, 1)   (100,)\n",
      "(100, 28, 28, 1)   (100,)\n",
      "(55, 28, 28, 1)   (55,)\n"
     ]
    }
   ],
   "source": [
    "for x,y in iterate_data(array_train_X, array_train_y):\n",
    "    print(x.shape,\" \",y.shape)"
   ]
  },
  {
   "cell_type": "code",
   "execution_count": 261,
   "metadata": {},
   "outputs": [
    {
     "name": "stdout",
     "output_type": "stream",
     "text": [
      "Epoch 1/2\n"
     ]
    },
    {
     "ename": "InvalidArgumentError",
     "evalue": "Tensor dense_2_target:0, specified in either feed_devices or fetch_devices was not found in the Graph",
     "output_type": "error",
     "traceback": [
      "\u001b[1;31m---------------------------------------------------------------------------\u001b[0m",
      "\u001b[1;31mInvalidArgumentError\u001b[0m                      Traceback (most recent call last)",
      "\u001b[1;32m<ipython-input-261-9c0ef75af9fe>\u001b[0m in \u001b[0;36m<module>\u001b[1;34m\u001b[0m\n\u001b[0;32m      3\u001b[0m \u001b[0mSTEPS\u001b[0m \u001b[1;33m=\u001b[0m \u001b[0mlen\u001b[0m\u001b[1;33m(\u001b[0m\u001b[0marray_train_X\u001b[0m\u001b[1;33m)\u001b[0m \u001b[1;33m//\u001b[0m \u001b[0mBATCH_SIZE\u001b[0m\u001b[1;33m\u001b[0m\u001b[1;33m\u001b[0m\u001b[0m\n\u001b[0;32m      4\u001b[0m \u001b[1;33m\u001b[0m\u001b[0m\n\u001b[1;32m----> 5\u001b[1;33m \u001b[0mmodel\u001b[0m\u001b[1;33m.\u001b[0m\u001b[0mfit_generator\u001b[0m\u001b[1;33m(\u001b[0m\u001b[0miterate_data\u001b[0m\u001b[1;33m(\u001b[0m\u001b[0marray_train_X\u001b[0m\u001b[1;33m,\u001b[0m\u001b[0marray_train_y\u001b[0m\u001b[1;33m,\u001b[0m\u001b[0mBATCH_SIZE\u001b[0m\u001b[1;33m)\u001b[0m\u001b[1;33m,\u001b[0m\u001b[0msteps_per_epoch\u001b[0m\u001b[1;33m=\u001b[0m\u001b[0mSTEPS\u001b[0m\u001b[1;33m,\u001b[0m \u001b[0mepochs\u001b[0m\u001b[1;33m=\u001b[0m\u001b[0mEPOCHS\u001b[0m\u001b[1;33m)\u001b[0m\u001b[1;33m\u001b[0m\u001b[1;33m\u001b[0m\u001b[0m\n\u001b[0m",
      "\u001b[1;32mc:\\users\\kules\\appdata\\local\\programs\\python\\python36\\lib\\site-packages\\keras\\legacy\\interfaces.py\u001b[0m in \u001b[0;36mwrapper\u001b[1;34m(*args, **kwargs)\u001b[0m\n\u001b[0;32m     89\u001b[0m                 warnings.warn('Update your `' + object_name + '` call to the ' +\n\u001b[0;32m     90\u001b[0m                               'Keras 2 API: ' + signature, stacklevel=2)\n\u001b[1;32m---> 91\u001b[1;33m             \u001b[1;32mreturn\u001b[0m \u001b[0mfunc\u001b[0m\u001b[1;33m(\u001b[0m\u001b[1;33m*\u001b[0m\u001b[0margs\u001b[0m\u001b[1;33m,\u001b[0m \u001b[1;33m**\u001b[0m\u001b[0mkwargs\u001b[0m\u001b[1;33m)\u001b[0m\u001b[1;33m\u001b[0m\u001b[1;33m\u001b[0m\u001b[0m\n\u001b[0m\u001b[0;32m     92\u001b[0m         \u001b[0mwrapper\u001b[0m\u001b[1;33m.\u001b[0m\u001b[0m_original_function\u001b[0m \u001b[1;33m=\u001b[0m \u001b[0mfunc\u001b[0m\u001b[1;33m\u001b[0m\u001b[1;33m\u001b[0m\u001b[0m\n\u001b[0;32m     93\u001b[0m         \u001b[1;32mreturn\u001b[0m \u001b[0mwrapper\u001b[0m\u001b[1;33m\u001b[0m\u001b[1;33m\u001b[0m\u001b[0m\n",
      "\u001b[1;32mc:\\users\\kules\\appdata\\local\\programs\\python\\python36\\lib\\site-packages\\keras\\engine\\training.py\u001b[0m in \u001b[0;36mfit_generator\u001b[1;34m(self, generator, steps_per_epoch, epochs, verbose, callbacks, validation_data, validation_steps, class_weight, max_queue_size, workers, use_multiprocessing, shuffle, initial_epoch)\u001b[0m\n\u001b[0;32m   1416\u001b[0m             \u001b[0muse_multiprocessing\u001b[0m\u001b[1;33m=\u001b[0m\u001b[0muse_multiprocessing\u001b[0m\u001b[1;33m,\u001b[0m\u001b[1;33m\u001b[0m\u001b[1;33m\u001b[0m\u001b[0m\n\u001b[0;32m   1417\u001b[0m             \u001b[0mshuffle\u001b[0m\u001b[1;33m=\u001b[0m\u001b[0mshuffle\u001b[0m\u001b[1;33m,\u001b[0m\u001b[1;33m\u001b[0m\u001b[1;33m\u001b[0m\u001b[0m\n\u001b[1;32m-> 1418\u001b[1;33m             initial_epoch=initial_epoch)\n\u001b[0m\u001b[0;32m   1419\u001b[0m \u001b[1;33m\u001b[0m\u001b[0m\n\u001b[0;32m   1420\u001b[0m     \u001b[1;33m@\u001b[0m\u001b[0minterfaces\u001b[0m\u001b[1;33m.\u001b[0m\u001b[0mlegacy_generator_methods_support\u001b[0m\u001b[1;33m\u001b[0m\u001b[1;33m\u001b[0m\u001b[0m\n",
      "\u001b[1;32mc:\\users\\kules\\appdata\\local\\programs\\python\\python36\\lib\\site-packages\\keras\\engine\\training_generator.py\u001b[0m in \u001b[0;36mfit_generator\u001b[1;34m(model, generator, steps_per_epoch, epochs, verbose, callbacks, validation_data, validation_steps, class_weight, max_queue_size, workers, use_multiprocessing, shuffle, initial_epoch)\u001b[0m\n\u001b[0;32m    215\u001b[0m                 outs = model.train_on_batch(x, y,\n\u001b[0;32m    216\u001b[0m                                             \u001b[0msample_weight\u001b[0m\u001b[1;33m=\u001b[0m\u001b[0msample_weight\u001b[0m\u001b[1;33m,\u001b[0m\u001b[1;33m\u001b[0m\u001b[1;33m\u001b[0m\u001b[0m\n\u001b[1;32m--> 217\u001b[1;33m                                             class_weight=class_weight)\n\u001b[0m\u001b[0;32m    218\u001b[0m \u001b[1;33m\u001b[0m\u001b[0m\n\u001b[0;32m    219\u001b[0m                 \u001b[0mouts\u001b[0m \u001b[1;33m=\u001b[0m \u001b[0mto_list\u001b[0m\u001b[1;33m(\u001b[0m\u001b[0mouts\u001b[0m\u001b[1;33m)\u001b[0m\u001b[1;33m\u001b[0m\u001b[1;33m\u001b[0m\u001b[0m\n",
      "\u001b[1;32mc:\\users\\kules\\appdata\\local\\programs\\python\\python36\\lib\\site-packages\\keras\\engine\\training.py\u001b[0m in \u001b[0;36mtrain_on_batch\u001b[1;34m(self, x, y, sample_weight, class_weight)\u001b[0m\n\u001b[0;32m   1215\u001b[0m             \u001b[0mins\u001b[0m \u001b[1;33m=\u001b[0m \u001b[0mx\u001b[0m \u001b[1;33m+\u001b[0m \u001b[0my\u001b[0m \u001b[1;33m+\u001b[0m \u001b[0msample_weights\u001b[0m\u001b[1;33m\u001b[0m\u001b[1;33m\u001b[0m\u001b[0m\n\u001b[0;32m   1216\u001b[0m         \u001b[0mself\u001b[0m\u001b[1;33m.\u001b[0m\u001b[0m_make_train_function\u001b[0m\u001b[1;33m(\u001b[0m\u001b[1;33m)\u001b[0m\u001b[1;33m\u001b[0m\u001b[1;33m\u001b[0m\u001b[0m\n\u001b[1;32m-> 1217\u001b[1;33m         \u001b[0moutputs\u001b[0m \u001b[1;33m=\u001b[0m \u001b[0mself\u001b[0m\u001b[1;33m.\u001b[0m\u001b[0mtrain_function\u001b[0m\u001b[1;33m(\u001b[0m\u001b[0mins\u001b[0m\u001b[1;33m)\u001b[0m\u001b[1;33m\u001b[0m\u001b[1;33m\u001b[0m\u001b[0m\n\u001b[0m\u001b[0;32m   1218\u001b[0m         \u001b[1;32mreturn\u001b[0m \u001b[0munpack_singleton\u001b[0m\u001b[1;33m(\u001b[0m\u001b[0moutputs\u001b[0m\u001b[1;33m)\u001b[0m\u001b[1;33m\u001b[0m\u001b[1;33m\u001b[0m\u001b[0m\n\u001b[0;32m   1219\u001b[0m \u001b[1;33m\u001b[0m\u001b[0m\n",
      "\u001b[1;32mc:\\users\\kules\\appdata\\local\\programs\\python\\python36\\lib\\site-packages\\keras\\backend\\tensorflow_backend.py\u001b[0m in \u001b[0;36m__call__\u001b[1;34m(self, inputs)\u001b[0m\n\u001b[0;32m   2713\u001b[0m                 \u001b[1;32mreturn\u001b[0m \u001b[0mself\u001b[0m\u001b[1;33m.\u001b[0m\u001b[0m_legacy_call\u001b[0m\u001b[1;33m(\u001b[0m\u001b[0minputs\u001b[0m\u001b[1;33m)\u001b[0m\u001b[1;33m\u001b[0m\u001b[1;33m\u001b[0m\u001b[0m\n\u001b[0;32m   2714\u001b[0m \u001b[1;33m\u001b[0m\u001b[0m\n\u001b[1;32m-> 2715\u001b[1;33m             \u001b[1;32mreturn\u001b[0m \u001b[0mself\u001b[0m\u001b[1;33m.\u001b[0m\u001b[0m_call\u001b[0m\u001b[1;33m(\u001b[0m\u001b[0minputs\u001b[0m\u001b[1;33m)\u001b[0m\u001b[1;33m\u001b[0m\u001b[1;33m\u001b[0m\u001b[0m\n\u001b[0m\u001b[0;32m   2716\u001b[0m         \u001b[1;32melse\u001b[0m\u001b[1;33m:\u001b[0m\u001b[1;33m\u001b[0m\u001b[1;33m\u001b[0m\u001b[0m\n\u001b[0;32m   2717\u001b[0m             \u001b[1;32mif\u001b[0m \u001b[0mpy_any\u001b[0m\u001b[1;33m(\u001b[0m\u001b[0mis_tensor\u001b[0m\u001b[1;33m(\u001b[0m\u001b[0mx\u001b[0m\u001b[1;33m)\u001b[0m \u001b[1;32mfor\u001b[0m \u001b[0mx\u001b[0m \u001b[1;32min\u001b[0m \u001b[0minputs\u001b[0m\u001b[1;33m)\u001b[0m\u001b[1;33m:\u001b[0m\u001b[1;33m\u001b[0m\u001b[1;33m\u001b[0m\u001b[0m\n",
      "\u001b[1;32mc:\\users\\kules\\appdata\\local\\programs\\python\\python36\\lib\\site-packages\\keras\\backend\\tensorflow_backend.py\u001b[0m in \u001b[0;36m_call\u001b[1;34m(self, inputs)\u001b[0m\n\u001b[0;32m   2669\u001b[0m                                 \u001b[0mfeed_symbols\u001b[0m\u001b[1;33m,\u001b[0m\u001b[1;33m\u001b[0m\u001b[1;33m\u001b[0m\u001b[0m\n\u001b[0;32m   2670\u001b[0m                                 \u001b[0msymbol_vals\u001b[0m\u001b[1;33m,\u001b[0m\u001b[1;33m\u001b[0m\u001b[1;33m\u001b[0m\u001b[0m\n\u001b[1;32m-> 2671\u001b[1;33m                                 session)\n\u001b[0m\u001b[0;32m   2672\u001b[0m         \u001b[1;32mif\u001b[0m \u001b[0mself\u001b[0m\u001b[1;33m.\u001b[0m\u001b[0mrun_metadata\u001b[0m\u001b[1;33m:\u001b[0m\u001b[1;33m\u001b[0m\u001b[1;33m\u001b[0m\u001b[0m\n\u001b[0;32m   2673\u001b[0m             \u001b[0mfetched\u001b[0m \u001b[1;33m=\u001b[0m \u001b[0mself\u001b[0m\u001b[1;33m.\u001b[0m\u001b[0m_callable_fn\u001b[0m\u001b[1;33m(\u001b[0m\u001b[1;33m*\u001b[0m\u001b[0marray_vals\u001b[0m\u001b[1;33m,\u001b[0m \u001b[0mrun_metadata\u001b[0m\u001b[1;33m=\u001b[0m\u001b[0mself\u001b[0m\u001b[1;33m.\u001b[0m\u001b[0mrun_metadata\u001b[0m\u001b[1;33m)\u001b[0m\u001b[1;33m\u001b[0m\u001b[1;33m\u001b[0m\u001b[0m\n",
      "\u001b[1;32mc:\\users\\kules\\appdata\\local\\programs\\python\\python36\\lib\\site-packages\\keras\\backend\\tensorflow_backend.py\u001b[0m in \u001b[0;36m_make_callable\u001b[1;34m(self, feed_arrays, feed_symbols, symbol_vals, session)\u001b[0m\n\u001b[0;32m   2621\u001b[0m             \u001b[0mcallable_opts\u001b[0m\u001b[1;33m.\u001b[0m\u001b[0mrun_options\u001b[0m\u001b[1;33m.\u001b[0m\u001b[0mCopyFrom\u001b[0m\u001b[1;33m(\u001b[0m\u001b[0mself\u001b[0m\u001b[1;33m.\u001b[0m\u001b[0mrun_options\u001b[0m\u001b[1;33m)\u001b[0m\u001b[1;33m\u001b[0m\u001b[1;33m\u001b[0m\u001b[0m\n\u001b[0;32m   2622\u001b[0m         \u001b[1;31m# Create callable.\u001b[0m\u001b[1;33m\u001b[0m\u001b[1;33m\u001b[0m\u001b[1;33m\u001b[0m\u001b[0m\n\u001b[1;32m-> 2623\u001b[1;33m         \u001b[0mcallable_fn\u001b[0m \u001b[1;33m=\u001b[0m \u001b[0msession\u001b[0m\u001b[1;33m.\u001b[0m\u001b[0m_make_callable_from_options\u001b[0m\u001b[1;33m(\u001b[0m\u001b[0mcallable_opts\u001b[0m\u001b[1;33m)\u001b[0m\u001b[1;33m\u001b[0m\u001b[1;33m\u001b[0m\u001b[0m\n\u001b[0m\u001b[0;32m   2624\u001b[0m         \u001b[1;31m# Cache parameters corresponding to the generated callable, so that\u001b[0m\u001b[1;33m\u001b[0m\u001b[1;33m\u001b[0m\u001b[1;33m\u001b[0m\u001b[0m\n\u001b[0;32m   2625\u001b[0m         \u001b[1;31m# we can detect future mismatches and refresh the callable.\u001b[0m\u001b[1;33m\u001b[0m\u001b[1;33m\u001b[0m\u001b[1;33m\u001b[0m\u001b[0m\n",
      "\u001b[1;32mc:\\users\\kules\\appdata\\local\\programs\\python\\python36\\lib\\site-packages\\tensorflow\\python\\client\\session.py\u001b[0m in \u001b[0;36m_make_callable_from_options\u001b[1;34m(self, callable_options)\u001b[0m\n\u001b[0;32m   1469\u001b[0m     \"\"\"\n\u001b[0;32m   1470\u001b[0m     \u001b[0mself\u001b[0m\u001b[1;33m.\u001b[0m\u001b[0m_extend_graph\u001b[0m\u001b[1;33m(\u001b[0m\u001b[1;33m)\u001b[0m\u001b[1;33m\u001b[0m\u001b[1;33m\u001b[0m\u001b[0m\n\u001b[1;32m-> 1471\u001b[1;33m     \u001b[1;32mreturn\u001b[0m \u001b[0mBaseSession\u001b[0m\u001b[1;33m.\u001b[0m\u001b[0m_Callable\u001b[0m\u001b[1;33m(\u001b[0m\u001b[0mself\u001b[0m\u001b[1;33m,\u001b[0m \u001b[0mcallable_options\u001b[0m\u001b[1;33m)\u001b[0m\u001b[1;33m\u001b[0m\u001b[1;33m\u001b[0m\u001b[0m\n\u001b[0m\u001b[0;32m   1472\u001b[0m \u001b[1;33m\u001b[0m\u001b[0m\n\u001b[0;32m   1473\u001b[0m \u001b[1;33m\u001b[0m\u001b[0m\n",
      "\u001b[1;32mc:\\users\\kules\\appdata\\local\\programs\\python\\python36\\lib\\site-packages\\tensorflow\\python\\client\\session.py\u001b[0m in \u001b[0;36m__init__\u001b[1;34m(self, session, callable_options)\u001b[0m\n\u001b[0;32m   1423\u001b[0m         \u001b[1;32mwith\u001b[0m \u001b[0merrors\u001b[0m\u001b[1;33m.\u001b[0m\u001b[0mraise_exception_on_not_ok_status\u001b[0m\u001b[1;33m(\u001b[0m\u001b[1;33m)\u001b[0m \u001b[1;32mas\u001b[0m \u001b[0mstatus\u001b[0m\u001b[1;33m:\u001b[0m\u001b[1;33m\u001b[0m\u001b[1;33m\u001b[0m\u001b[0m\n\u001b[0;32m   1424\u001b[0m           self._handle = tf_session.TF_SessionMakeCallable(\n\u001b[1;32m-> 1425\u001b[1;33m               session._session, options_ptr, status)\n\u001b[0m\u001b[0;32m   1426\u001b[0m       \u001b[1;32mfinally\u001b[0m\u001b[1;33m:\u001b[0m\u001b[1;33m\u001b[0m\u001b[1;33m\u001b[0m\u001b[0m\n\u001b[0;32m   1427\u001b[0m         \u001b[0mtf_session\u001b[0m\u001b[1;33m.\u001b[0m\u001b[0mTF_DeleteBuffer\u001b[0m\u001b[1;33m(\u001b[0m\u001b[0moptions_ptr\u001b[0m\u001b[1;33m)\u001b[0m\u001b[1;33m\u001b[0m\u001b[1;33m\u001b[0m\u001b[0m\n",
      "\u001b[1;32mc:\\users\\kules\\appdata\\local\\programs\\python\\python36\\lib\\site-packages\\tensorflow\\python\\framework\\errors_impl.py\u001b[0m in \u001b[0;36m__exit__\u001b[1;34m(self, type_arg, value_arg, traceback_arg)\u001b[0m\n\u001b[0;32m    526\u001b[0m             \u001b[1;32mNone\u001b[0m\u001b[1;33m,\u001b[0m \u001b[1;32mNone\u001b[0m\u001b[1;33m,\u001b[0m\u001b[1;33m\u001b[0m\u001b[1;33m\u001b[0m\u001b[0m\n\u001b[0;32m    527\u001b[0m             \u001b[0mcompat\u001b[0m\u001b[1;33m.\u001b[0m\u001b[0mas_text\u001b[0m\u001b[1;33m(\u001b[0m\u001b[0mc_api\u001b[0m\u001b[1;33m.\u001b[0m\u001b[0mTF_Message\u001b[0m\u001b[1;33m(\u001b[0m\u001b[0mself\u001b[0m\u001b[1;33m.\u001b[0m\u001b[0mstatus\u001b[0m\u001b[1;33m.\u001b[0m\u001b[0mstatus\u001b[0m\u001b[1;33m)\u001b[0m\u001b[1;33m)\u001b[0m\u001b[1;33m,\u001b[0m\u001b[1;33m\u001b[0m\u001b[1;33m\u001b[0m\u001b[0m\n\u001b[1;32m--> 528\u001b[1;33m             c_api.TF_GetCode(self.status.status))\n\u001b[0m\u001b[0;32m    529\u001b[0m     \u001b[1;31m# Delete the underlying status object from memory otherwise it stays alive\u001b[0m\u001b[1;33m\u001b[0m\u001b[1;33m\u001b[0m\u001b[1;33m\u001b[0m\u001b[0m\n\u001b[0;32m    530\u001b[0m     \u001b[1;31m# as there is a reference to status from this from the traceback due to\u001b[0m\u001b[1;33m\u001b[0m\u001b[1;33m\u001b[0m\u001b[1;33m\u001b[0m\u001b[0m\n",
      "\u001b[1;31mInvalidArgumentError\u001b[0m: Tensor dense_2_target:0, specified in either feed_devices or fetch_devices was not found in the Graph"
     ]
    }
   ],
   "source": [
    "EPOCHS = 2\n",
    "BATCH_SIZE = 100\n",
    "STEPS = len(array_train_X) // BATCH_SIZE\n",
    "\n",
    "model.fit_generator(iterate_data(array_train_X,array_train_y,BATCH_SIZE),steps_per_epoch=STEPS, epochs=EPOCHS)"
   ]
  },
  {
   "cell_type": "markdown",
   "metadata": {},
   "source": [
    "### Test Model"
   ]
  },
  {
   "cell_type": "code",
   "execution_count": null,
   "metadata": {},
   "outputs": [],
   "source": []
  }
 ],
 "metadata": {
  "kernelspec": {
   "display_name": "Python 3",
   "language": "python",
   "name": "python3"
  },
  "language_info": {
   "codemirror_mode": {
    "name": "ipython",
    "version": 3
   },
   "file_extension": ".py",
   "mimetype": "text/x-python",
   "name": "python",
   "nbconvert_exporter": "python",
   "pygments_lexer": "ipython3",
   "version": "3.6.8"
  }
 },
 "nbformat": 4,
 "nbformat_minor": 2
}
